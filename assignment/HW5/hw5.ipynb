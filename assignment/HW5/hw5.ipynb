{
 "cells": [
  {
   "cell_type": "markdown",
   "metadata": {},
   "source": [
    "**Libraries**"
   ]
  },
  {
   "cell_type": "code",
   "execution_count": 73,
   "metadata": {},
   "outputs": [],
   "source": [
    "import pandas as pd\n",
    "import numpy as np\n",
    "import yfinance as yf\n",
    "from datetime import datetime\n",
    "from statsmodels.tsa.stattools import adfuller\n",
    "from statsmodels.tsa.vector_ar.vecm import coint_johansen\n",
    "from hurst import compute_Hc\n",
    "import statsmodels.api as sm\n"
   ]
  },
  {
   "cell_type": "markdown",
   "metadata": {},
   "source": [
    "**Variables**"
   ]
  },
  {
   "cell_type": "code",
   "execution_count": 74,
   "metadata": {},
   "outputs": [],
   "source": [
    "cryptos = ['BTC-USD', 'ETH-USD', 'USDT-USD', 'BNB-USD', 'SOL-USD', 'XRP-USD', 'USDC-USD',\n",
    "            'STETH-USD', 'ADA-USD', 'AVAX-USD', 'DOGE-USD', 'DOT-USD', 'WTRX-USD',\n",
    "              'TRX-USD', 'MATIC-USD', 'LINK-USD', 'TON11419-USD', 'WBTC-USD','ICP-USD','SHIB-USD']\n",
    "\n",
    "start_date = datetime(2022,11,1)\n",
    "end_date = datetime(2023,11,2)\n",
    "\n",
    "my_cryptos = []\n",
    "stationaries = []\n",
    "results = {'Names' : list(set()),'P_values' : [],'Weights' : [],'Hurst Exponent': [],'Half-Life' : []}\n"
   ]
  },
  {
   "cell_type": "markdown",
   "metadata": {},
   "source": [
    "**Resampling 1h to 4h**"
   ]
  },
  {
   "cell_type": "code",
   "execution_count": 75,
   "metadata": {},
   "outputs": [],
   "source": [
    "## source : https://stackoverflow.com/questions/74479906/how-to-get-aggregate-4hour-bars-historical-stock-data-using-yfinance-in-python\n",
    "\n",
    "def Resample(crypto_tickerDf):\n",
    "    resampled_df = crypto_tickerDf.resample('4H').agg({\n",
    "        'Open': 'first',\n",
    "        'High': 'max',\n",
    "        'Low': 'min',\n",
    "        'Close': 'last',\n",
    "        'Volume': 'sum'\n",
    "    })\n",
    "    return resampled_df"
   ]
  },
  {
   "cell_type": "code",
   "execution_count": 76,
   "metadata": {},
   "outputs": [],
   "source": [
    "for i in range(len(cryptos)):\n",
    "    crypto_tickerDf = yf.Ticker(cryptos[i])\n",
    "    crypto_tickerDf = crypto_tickerDf.history(interval='1h', start=start_date, end=end_date)\n",
    "    resampled_df = Resample(crypto_tickerDf)\n",
    "    # resampled_df.replace([np.inf, -np.inf], np.nan).dropna()\n",
    "    my_cryptos.append(resampled_df['Close'])"
   ]
  },
  {
   "cell_type": "markdown",
   "metadata": {},
   "source": [
    "**Commented Johansen Test**"
   ]
  },
  {
   "cell_type": "code",
   "execution_count": 77,
   "metadata": {},
   "outputs": [],
   "source": [
    "# result = coint_johansen(df[['a', 'b', 'c']], det_order=0, k_ar_diff=1)\n",
    "\n",
    "# # Get the trace statistics\n",
    "# trace_stat = result.lr1\n",
    "\n",
    "# # Get the critical values for the trace statistics\n",
    "# trace_crit_vals = result.cvt\n",
    "\n",
    "# # Infer the p-value for the trace statistics\n",
    "# for i in range(len(trace_stat)):\n",
    "#     if trace_stat[i] > trace_crit_vals[i, 2]:\n",
    "#         print(f\"For r <= {i}, the trace statistic is {trace_stat[i]:.2f} and the p-value is < 0.01\")\n",
    "#     elif trace_stat[i] > trace_crit_vals[i, 1]:\n",
    "#         print(f\"For r <= {i}, the trace statistic is {trace_stat[i]:.2f} and the p-value is < 0.05\")\n",
    "#     elif trace_stat[i] > trace_crit_vals[i, 0]:\n",
    "#         print(f\"For r <= {i}, the trace statistic is {trace_stat[i]:.2f} and the p-value is < 0.1\")\n",
    "#     else:\n",
    "#         print(f\"For r <= {i}, the trace statistic is {trace_stat[i]:.2f} and the p-value is >= 0.1\")"
   ]
  },
  {
   "cell_type": "markdown",
   "metadata": {},
   "source": [
    "**ADF Test**"
   ]
  },
  {
   "cell_type": "code",
   "execution_count": 78,
   "metadata": {},
   "outputs": [],
   "source": [
    "def modified_adf_test(series):\n",
    "    adf = adfuller(series)\n",
    "    p_value = adf[1]\n",
    "    if p_value <= 0.05 :\n",
    "      return True,p_value\n",
    "    return False,p_value"
   ]
  },
  {
   "cell_type": "markdown",
   "metadata": {},
   "source": [
    "**Johansen Test**"
   ]
  },
  {
   "cell_type": "code",
   "execution_count": 79,
   "metadata": {},
   "outputs": [],
   "source": [
    "## source : https://blog.quantinsti.com/johansen-test-cointegration-building-stationary-portfolio/\n",
    "\n",
    "def johansen_test(i,j):\n",
    "    my_cryptos[i] = my_cryptos[i].replace([np.inf, -np.inf], np.nan).dropna()\n",
    "    my_cryptos[j] = my_cryptos[j].replace([np.inf, -np.inf], np.nan).dropna()\n",
    "    data = pd.concat([my_cryptos[i],my_cryptos[j]], axis=1)\n",
    "    try:\n",
    "        result = coint_johansen(data.values, det_order=0, k_ar_diff=1)\n",
    "        weights = result.evec\n",
    "        result_series = 0\n",
    "        \n",
    "        for i in range(2):\n",
    "            result_series += np.dot(data.values, weights[:, i])\n",
    "        stationary,p_value = modified_adf_test(result_series)\n",
    "        if stationary:\n",
    "            return weights,p_value,result_series\n",
    "        else:\n",
    "            return None, None, None\n",
    "    except np.linalg.LinAlgError:\n",
    "        # print(f\"SVD did not converge for {cryptos[i]} and {cryptos[j]}. Skipping...\")\n",
    "        return None, None,None\n",
    "    "
   ]
  },
  {
   "cell_type": "markdown",
   "metadata": {},
   "source": [
    "**Part1**"
   ]
  },
  {
   "cell_type": "code",
   "execution_count": 80,
   "metadata": {},
   "outputs": [],
   "source": [
    "for i in range(len(my_cryptos)):\n",
    "    for j in range(i+1,len(my_cryptos)):\n",
    "        if len(stationaries) < 10:\n",
    "            weights,p_value,result_series = johansen_test(i,j)\n",
    "            if weights is not None and p_value is not None:\n",
    "                stationaries.append(result_series)\n",
    "                results['Names'].append((cryptos[i],cryptos[j]))\n",
    "                results['P_values'].append(p_value)\n",
    "                results['Weights'].append(weights)\n",
    "        else:\n",
    "            break\n"
   ]
  },
  {
   "cell_type": "code",
   "execution_count": 81,
   "metadata": {},
   "outputs": [
    {
     "name": "stdout",
     "output_type": "stream",
     "text": [
      "Name : ('BTC-USD', 'USDT-USD'), P-value : 0.04033124126850145, Weights : [[ 1.58147716e-05 -2.10824405e-04]\n",
      " [-9.76506126e+02  2.20993116e+01]]\n",
      "Name : ('BTC-USD', 'USDC-USD'), P-value : 0.0006447082975304632, Weights : [[ 1.15396871e-05 -2.10397878e-04]\n",
      " [-2.61963535e+02 -2.36971319e-01]]\n",
      "Name : ('BTC-USD', 'DOGE-USD'), P-value : 0.009572761863156639, Weights : [[7.32694857e-05 2.23245477e-04]\n",
      " [8.60047187e+01 1.24590296e+01]]\n",
      "Name : ('BTC-USD', 'WBTC-USD'), P-value : 0.01134791423265375, Weights : [[ 3.38758538e-03 -2.04547968e-04]\n",
      " [-3.39888887e-03 -5.88028150e-06]]\n",
      "Name : ('ETH-USD', 'USDT-USD'), P-value : 0.016250983309399544, Weights : [[ 6.05402788e-04 -4.32229038e-03]\n",
      " [-9.81083415e+02  6.00511438e+00]]\n",
      "Name : ('ETH-USD', 'USDC-USD'), P-value : 0.00034264109824244714, Weights : [[ 1.32995911e-04 -4.31946141e-03]\n",
      " [-2.61785651e+02  1.80818868e+00]]\n",
      "Name : ('ETH-USD', 'DOGE-USD'), P-value : 0.006332303287574753, Weights : [[ 1.04575543e-03  4.30974119e-03]\n",
      " [ 7.99226264e+01 -7.00488212e-01]]\n",
      "Name : ('USDT-USD', 'BNB-USD'), P-value : 0.01353992041790487, Weights : [[ 9.97201757e+02  8.66550843e+00]\n",
      " [-5.94307195e-03  2.37597224e-02]]\n",
      "Name : ('USDT-USD', 'SOL-USD'), P-value : 0.014124724575214097, Weights : [[ 9.75004719e+02 -1.76083691e+01]\n",
      " [-1.83468130e-02  2.06161820e-01]]\n",
      "Name : ('USDT-USD', 'XRP-USD'), P-value : 0.009914887612116358, Weights : [[979.26705588 -10.27121116]\n",
      " [  1.62343041  10.47603527]]\n"
     ]
    }
   ],
   "source": [
    "for i in range(len(results['Names'])):\n",
    "    print(f'Name : {results[\"Names\"][i]}, P-value : {results[\"P_values\"][i]}, Weights : {results[\"Weights\"][i]}')\n"
   ]
  },
  {
   "cell_type": "markdown",
   "metadata": {},
   "source": [
    "**Part2 - Hurst Exponent**"
   ]
  },
  {
   "cell_type": "code",
   "execution_count": 82,
   "metadata": {},
   "outputs": [],
   "source": [
    "## source : https://github.com/Mottl/hurst\n",
    "def HurstExponent(timeSeries):\n",
    "    H, c, data = compute_Hc(timeSeries)\n",
    "    # print(f\"Hurst exponent: {H:.4f}\")\n",
    "    # print(f\"Constant: {c:.4f}\")\n",
    "    return H,c"
   ]
  },
  {
   "cell_type": "code",
   "execution_count": 83,
   "metadata": {},
   "outputs": [
    {
     "name": "stdout",
     "output_type": "stream",
     "text": [
      "Hurst Exponent : 0.4696510141229028 \t Constant : 1.2229280771613853\n",
      "-------------------------------------\n",
      "Hurst Exponent : 0.4809935827435661 \t Constant : 1.11280141106601\n",
      "-------------------------------------\n",
      "Hurst Exponent : 0.4728421852659293 \t Constant : 1.4556742229216872\n",
      "-------------------------------------\n",
      "Hurst Exponent : 0.39895541055974704 \t Constant : 1.2465501872472171\n",
      "-------------------------------------\n",
      "Hurst Exponent : 0.4668509688457538 \t Constant : 1.233781799571892\n",
      "-------------------------------------\n",
      "Hurst Exponent : 0.4670359510434491 \t Constant : 1.2816286328288455\n",
      "-------------------------------------\n",
      "Hurst Exponent : 0.4702840485591979 \t Constant : 1.4575064078477173\n",
      "-------------------------------------\n",
      "Hurst Exponent : 0.4769990013509742 \t Constant : 1.1306296583890694\n",
      "-------------------------------------\n",
      "Hurst Exponent : 0.460413053972439 \t Constant : 1.3467711586569087\n",
      "-------------------------------------\n",
      "Hurst Exponent : 0.4755526210549911 \t Constant : 1.1757482648406485\n",
      "-------------------------------------\n"
     ]
    }
   ],
   "source": [
    "for ts in range(len(stationaries)):\n",
    "    hurst_exponent,constant = HurstExponent(stationaries[ts])\n",
    "    results['Hurst Exponent'].append(hurst_exponent)\n",
    "    print(f'Hurst Exponent : {hurst_exponent} \\t Constant : {constant}')\n",
    "    print('-------------------------------------')"
   ]
  },
  {
   "cell_type": "markdown",
   "metadata": {},
   "source": [
    "**Part3 - half-life**"
   ]
  },
  {
   "cell_type": "code",
   "execution_count": 84,
   "metadata": {},
   "outputs": [],
   "source": [
    "## source : https://quant.stackexchange.com/questions/25086/calculating-half-life-of-mean-reverting-series-with-python\n",
    "## source2 : https://github.com/cantaro86/Financial-Models-Numerical-Methods/blob/master/6.1%20Ornstein-Uhlenbeck%20process%20and%20applications.ipynb\n",
    "\n",
    "def half_life(timeseries):\n",
    "    # Calculate the lagged time series\n",
    "    lagged_timeseries = np.roll(timeseries, 1)\n",
    "    lagged_timeseries[0] = 0\n",
    "    delta_timeseries = timeseries - lagged_timeseries\n",
    "    delta_timeseries[0] = 0\n",
    "\n",
    "    # Add a constant to the lagged timeseries\n",
    "    lagged_timeseries = sm.add_constant(lagged_timeseries[1:])\n",
    "\n",
    "    # Use the OLS function to calculate theta\n",
    "    model = sm.OLS(delta_timeseries[1:], lagged_timeseries)\n",
    "    results = model.fit()\n",
    "    theta = results.params\n",
    "\n",
    "    # Calculate and return the half life\n",
    "    return -np.log(2) / theta[1]"
   ]
  },
  {
   "cell_type": "code",
   "execution_count": 85,
   "metadata": {},
   "outputs": [
    {
     "name": "stdout",
     "output_type": "stream",
     "text": [
      "('BTC-USD', 'USDT-USD')  :  5.945232677165996\n",
      "('BTC-USD', 'USDC-USD')  :  6.387315540910477\n",
      "('BTC-USD', 'DOGE-USD')  :  73.10259818825904\n",
      "('BTC-USD', 'WBTC-USD')  :  2.552096998420777\n",
      "('ETH-USD', 'USDT-USD')  :  5.6327316557820675\n",
      "('ETH-USD', 'USDC-USD')  :  6.41194222590925\n",
      "('ETH-USD', 'DOGE-USD')  :  69.62349053722\n",
      "('USDT-USD', 'BNB-USD')  :  5.333823154374098\n",
      "('USDT-USD', 'SOL-USD')  :  5.8640801234808615\n",
      "('USDT-USD', 'XRP-USD')  :  5.665302582212841\n"
     ]
    }
   ],
   "source": [
    "for i in range(len(stationaries)):\n",
    "    results['Half-Life'].append(half_life(stationaries[i]))\n",
    "    print(results['Names'][i] ,\" : \", half_life(stationaries[i]))"
   ]
  },
  {
   "cell_type": "markdown",
   "metadata": {},
   "source": [
    "**LAST PART**"
   ]
  },
  {
   "cell_type": "code",
   "execution_count": 86,
   "metadata": {},
   "outputs": [
    {
     "name": "stdout",
     "output_type": "stream",
     "text": [
      "Name :('BTC-USD', 'USDT-USD')   P-value :0.04033124126850145  Weights :[[ 1.58147716e-05 -2.10824405e-04]\n",
      " [-9.76506126e+02  2.20993116e+01]]   Hurst Exponent :0.4696510141229028   Half-Life :5.945232677165996\n",
      "\n",
      "Name :('BTC-USD', 'USDC-USD')   P-value :0.0006447082975304632  Weights :[[ 1.15396871e-05 -2.10397878e-04]\n",
      " [-2.61963535e+02 -2.36971319e-01]]   Hurst Exponent :0.4809935827435661   Half-Life :6.387315540910477\n",
      "\n",
      "Name :('BTC-USD', 'DOGE-USD')   P-value :0.009572761863156639  Weights :[[7.32694857e-05 2.23245477e-04]\n",
      " [8.60047187e+01 1.24590296e+01]]   Hurst Exponent :0.4728421852659293   Half-Life :73.10259818825904\n",
      "\n",
      "Name :('BTC-USD', 'WBTC-USD')   P-value :0.01134791423265375  Weights :[[ 3.38758538e-03 -2.04547968e-04]\n",
      " [-3.39888887e-03 -5.88028150e-06]]   Hurst Exponent :0.39895541055974704   Half-Life :2.552096998420777\n",
      "\n",
      "Name :('ETH-USD', 'USDT-USD')   P-value :0.016250983309399544  Weights :[[ 6.05402788e-04 -4.32229038e-03]\n",
      " [-9.81083415e+02  6.00511438e+00]]   Hurst Exponent :0.4668509688457538   Half-Life :5.6327316557820675\n",
      "\n",
      "Name :('ETH-USD', 'USDC-USD')   P-value :0.00034264109824244714  Weights :[[ 1.32995911e-04 -4.31946141e-03]\n",
      " [-2.61785651e+02  1.80818868e+00]]   Hurst Exponent :0.4670359510434491   Half-Life :6.41194222590925\n",
      "\n",
      "Name :('ETH-USD', 'DOGE-USD')   P-value :0.006332303287574753  Weights :[[ 1.04575543e-03  4.30974119e-03]\n",
      " [ 7.99226264e+01 -7.00488212e-01]]   Hurst Exponent :0.4702840485591979   Half-Life :69.62349053722\n",
      "\n",
      "Name :('USDT-USD', 'BNB-USD')   P-value :0.01353992041790487  Weights :[[ 9.97201757e+02  8.66550843e+00]\n",
      " [-5.94307195e-03  2.37597224e-02]]   Hurst Exponent :0.4769990013509742   Half-Life :5.333823154374098\n",
      "\n",
      "Name :('USDT-USD', 'SOL-USD')   P-value :0.014124724575214097  Weights :[[ 9.75004719e+02 -1.76083691e+01]\n",
      " [-1.83468130e-02  2.06161820e-01]]   Hurst Exponent :0.460413053972439   Half-Life :5.8640801234808615\n",
      "\n",
      "Name :('USDT-USD', 'XRP-USD')   P-value :0.009914887612116358  Weights :[[979.26705588 -10.27121116]\n",
      " [  1.62343041  10.47603527]]   Hurst Exponent :0.4755526210549911   Half-Life :5.665302582212841\n",
      "\n"
     ]
    }
   ],
   "source": [
    "for i in range(len(results['Names'])):\n",
    "    print(f'Name :{results[\"Names\"][i]}   P-value :{results[\"P_values\"][i]}  Weights :{results[\"Weights\"][i]}   Hurst Exponent :{results[\"Hurst Exponent\"][i]}   Half-Life :{results[\"Half-Life\"][i]}\\n')"
   ]
  },
  {
   "cell_type": "code",
   "execution_count": 87,
   "metadata": {},
   "outputs": [],
   "source": [
    "df = pd.DataFrame()\n",
    "\n",
    "df['name1'] = [name[0] for name in results['Names']]\n",
    "df['name2'] = [name[1] for name in results['Names']]\n",
    "\n",
    "df['P_values'] = results['P_values']\n",
    "df['Weights'] = results['Weights']\n",
    "df['Hurst Exponent'] = results['Hurst Exponent']\n",
    "df['Half-Life'] = results['Half-Life']\n",
    "\n",
    "df.to_csv('results.csv', index=False)"
   ]
  }
 ],
 "metadata": {
  "kernelspec": {
   "display_name": "Python 3",
   "language": "python",
   "name": "python3"
  },
  "language_info": {
   "codemirror_mode": {
    "name": "ipython",
    "version": 3
   },
   "file_extension": ".py",
   "mimetype": "text/x-python",
   "name": "python",
   "nbconvert_exporter": "python",
   "pygments_lexer": "ipython3",
   "version": "3.11.0"
  }
 },
 "nbformat": 4,
 "nbformat_minor": 2
}
